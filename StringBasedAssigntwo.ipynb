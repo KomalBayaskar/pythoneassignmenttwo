{
 "cells": [
  {
   "cell_type": "code",
   "execution_count": 3,
   "id": "00f98226-cb54-4bfb-b94a-a150aee7db1d",
   "metadata": {},
   "outputs": [
    {
     "name": "stdin",
     "output_type": "stream",
     "text": [
      "enter the sentence komal\n"
     ]
    },
    {
     "name": "stdout",
     "output_type": "stream",
     "text": [
      "lamok\n"
     ]
    }
   ],
   "source": [
    "#write a programe to Reverse the String\n",
    "a=input(\"enter the sentence\")\n",
    "a=a[::-1]\n",
    "print(a)"
   ]
  },
  {
   "cell_type": "code",
   "execution_count": 1,
   "id": "fffd988d-29d8-4e0c-b554-13f714505f47",
   "metadata": {},
   "outputs": [
    {
     "name": "stdin",
     "output_type": "stream",
     "text": [
      "enter the string komal\n"
     ]
    },
    {
     "data": {
      "text/plain": [
       "False"
      ]
     },
     "execution_count": 1,
     "metadata": {},
     "output_type": "execute_result"
    }
   ],
   "source": [
    "#Check if a string is a palindrome.\n",
    "a=input(\"enter the string\")\n",
    "b=a[::-1] # reversed the string\n",
    "a==b  # compare entered string with reversed string"
   ]
  },
  {
   "cell_type": "code",
   "execution_count": 2,
   "id": "9e46ab93-c835-4dba-a880-07ae0558e8cb",
   "metadata": {},
   "outputs": [
    {
     "name": "stdin",
     "output_type": "stream",
     "text": [
      "enter the string toot\n"
     ]
    },
    {
     "data": {
      "text/plain": [
       "True"
      ]
     },
     "execution_count": 2,
     "metadata": {},
     "output_type": "execute_result"
    }
   ],
   "source": [
    "#Check if a string is a palindrome.\n",
    "a=input(\"enter the string\")\n",
    "b=a[::-1] # reversed the string\n",
    "a==b  # compare entered string with reversed string"
   ]
  },
  {
   "cell_type": "code",
   "execution_count": 4,
   "id": "a0730557-8635-4cbd-93c3-24b41ea4a3a5",
   "metadata": {},
   "outputs": [
    {
     "name": "stdin",
     "output_type": "stream",
     "text": [
      "enter the LowerCase  string krishna\n"
     ]
    },
    {
     "data": {
      "text/plain": [
       "'KRISHNA'"
      ]
     },
     "execution_count": 4,
     "metadata": {},
     "output_type": "execute_result"
    }
   ],
   "source": [
    "#Covert a string into UpperCase\n",
    "x=input(\"enter the LowerCase  string\")\n",
    "x.upper()"
   ]
  },
  {
   "cell_type": "code",
   "execution_count": 5,
   "id": "22c9c047-ac6b-41fe-b9ec-2abff64c989a",
   "metadata": {},
   "outputs": [
    {
     "name": "stdin",
     "output_type": "stream",
     "text": [
      "enter the Uppercase  string PWSKILLS\n"
     ]
    },
    {
     "data": {
      "text/plain": [
       "'pwskills'"
      ]
     },
     "execution_count": 5,
     "metadata": {},
     "output_type": "execute_result"
    }
   ],
   "source": [
    "#Covert a string into Lowercase\n",
    "x=input(\"enter the Uppercase  string\")\n",
    "x.lower()"
   ]
  },
  {
   "cell_type": "code",
   "execution_count": 8,
   "id": "2417e22e-9ab9-451a-8420-45b3956d686f",
   "metadata": {},
   "outputs": [
    {
     "name": "stdin",
     "output_type": "stream",
     "text": [
      "enter the sentence ineuron\n"
     ]
    },
    {
     "name": "stdout",
     "output_type": "stream",
     "text": [
      "4\n"
     ]
    }
   ],
   "source": [
    "#count the vowels from the sentence\n",
    "a=input(\"enter the sentence\")\n",
    "vowels=\"a,e,i,o,u,A,E,I,O,U\"\n",
    "b=sum(a.count(vowel)for vowel in vowels)\n",
    "print(b)"
   ]
  },
  {
   "cell_type": "code",
   "execution_count": 12,
   "id": "1095bb35-8f72-4143-8920-7abd40d94769",
   "metadata": {},
   "outputs": [
    {
     "name": "stdin",
     "output_type": "stream",
     "text": [
      "enter the sentence waterbottle\n"
     ]
    },
    {
     "name": "stdout",
     "output_type": "stream",
     "text": [
      "7\n"
     ]
    }
   ],
   "source": [
    "#count the consonants from the sentence\n",
    "a=input(\"enter the sentence\")\n",
    "consonants=\"bcdfghjklmnpqrstvwxyzBCDFGHJKLMNPQRSTVWXYZ\"\n",
    "b=sum(a.count(char)for char in consonants)\n",
    "print(b)"
   ]
  },
  {
   "cell_type": "code",
   "execution_count": 13,
   "id": "e5d51d16-5e85-4ca3-8af9-67b07beb1f20",
   "metadata": {},
   "outputs": [
    {
     "name": "stdin",
     "output_type": "stream",
     "text": [
      "enter the string i am a teacher\n"
     ]
    },
    {
     "name": "stdout",
     "output_type": "stream",
     "text": [
      "iamateacher\n"
     ]
    }
   ],
   "source": [
    "#Remove spaces from string\n",
    "a=input(\"enter the string\")\n",
    "b=a.replace(\" \",\"\")\n",
    "print(b)"
   ]
  },
  {
   "cell_type": "code",
   "execution_count": 17,
   "id": "2a709ff5-ef1a-4b60-a279-7a4a9ff066eb",
   "metadata": {},
   "outputs": [
    {
     "name": "stdin",
     "output_type": "stream",
     "text": [
      "enter the string komal\n"
     ]
    },
    {
     "name": "stdout",
     "output_type": "stream",
     "text": [
      "5\n"
     ]
    }
   ],
   "source": [
    "#Find the length of a string without using the `len()` function.\n",
    "a=input(\"enter the string\")\n",
    "b=a   #assign input string to varible b\n",
    "c=sum(a.count(char)for char in b)\n",
    "print(c)"
   ]
  },
  {
   "cell_type": "code",
   "execution_count": 30,
   "id": "da85bd52-e3d9-4d98-bc73-bde8597f9206",
   "metadata": {},
   "outputs": [
    {
     "name": "stdin",
     "output_type": "stream",
     "text": [
      "enter the sentence he is a best teacher\n",
      "enter the specific word best\n"
     ]
    },
    {
     "name": "stdout",
     "output_type": "stream",
     "text": [
      "best\n"
     ]
    }
   ],
   "source": [
    "#Check if a string contains a specific word.\n",
    "a=input(\"enter the sentence\")\n",
    "b=input(\"enter the specific word\") #enter a word you want to search in sentence\n",
    "if b in a:\n",
    "  print(b)\n",
    "else:\n",
    " print(\"word not present\") "
   ]
  },
  {
   "cell_type": "code",
   "execution_count": 35,
   "id": "dd73f4fe-37ed-427e-beb1-5529a6daf10f",
   "metadata": {},
   "outputs": [
    {
     "name": "stdin",
     "output_type": "stream",
     "text": [
      "enter the sentence it is a job guarantee program.\n",
      "enter old word it\n",
      "enter new word Pwskills\n"
     ]
    },
    {
     "name": "stdout",
     "output_type": "stream",
     "text": [
      "Pwskills is a job guarantee program.\n"
     ]
    }
   ],
   "source": [
    "#Replace a word in a string with another word.\n",
    "a=input(\"enter the sentence\")\n",
    "b=input(\"enter old word\") \n",
    "c=input(\"enter new word\") #enter the string you want to replace in input sentence.\n",
    "d=a.replace(b,c)\n",
    "print(d)"
   ]
  },
  {
   "cell_type": "code",
   "execution_count": 12,
   "id": "40ae8c00-ba3c-4c39-b2e5-329ea5969cbc",
   "metadata": {},
   "outputs": [
    {
     "name": "stdin",
     "output_type": "stream",
     "text": [
      "enter the sentence i am a girl, girl, am\n",
      "enter the word a\n"
     ]
    },
    {
     "name": "stdout",
     "output_type": "stream",
     "text": [
      "1\n"
     ]
    }
   ],
   "source": [
    "#Count the occurrences of a word in a string.\n",
    "a=input(\"enter the sentence\")\n",
    "b=input(\"enter the word\")\n",
    "def occurrences(a,b):\n",
    "    c = a.split()\n",
    "    count = 0\n",
    "\n",
    "    for d in c:\n",
    "        if d == b:\n",
    "            count += 1\n",
    "\n",
    "    return count\n",
    "result = occurrences(a,b)\n",
    "print(result)"
   ]
  },
  {
   "cell_type": "code",
   "execution_count": 22,
   "id": "7155c431-33e2-4152-b763-6ad8cf134e03",
   "metadata": {},
   "outputs": [
    {
     "name": "stdin",
     "output_type": "stream",
     "text": [
      "enter the sentence i am a girl, girl is beautifull\n",
      "enter the word girl\n"
     ]
    },
    {
     "name": "stdout",
     "output_type": "stream",
     "text": [
      "7\n"
     ]
    }
   ],
   "source": [
    "#Find the first occurrence of a word in a string.\n",
    "a=input(\"enter the sentence\")\n",
    "b=input(\"enter the word\")\n",
    "def first_occurrences(a,b):\n",
    "    c = a.find(b)    \n",
    "    return c\n",
    "result = first_occurrences(a,b)\n",
    "print(result)"
   ]
  },
  {
   "cell_type": "code",
   "execution_count": 23,
   "id": "ca7877ad-b53e-49e8-adb0-60ac418f92d8",
   "metadata": {},
   "outputs": [
    {
     "name": "stdin",
     "output_type": "stream",
     "text": [
      "enter the sentence i am a girl, girl is beautifull\n",
      "enter the word girl\n"
     ]
    },
    {
     "name": "stdout",
     "output_type": "stream",
     "text": [
      "13\n"
     ]
    }
   ],
   "source": [
    "#Find the last occurrence of a word in a string.\n",
    "a=input(\"enter the sentence\")\n",
    "b=input(\"enter the word\")\n",
    "def last_occurrences(a,b):\n",
    "    c = a.rfind(b)    \n",
    "    return c\n",
    "result = last_occurrences(a,b)\n",
    "print(result)"
   ]
  },
  {
   "cell_type": "code",
   "execution_count": 26,
   "id": "e8be72ef-62c7-41fb-aed7-d58e6ffe7568",
   "metadata": {},
   "outputs": [
    {
     "name": "stdin",
     "output_type": "stream",
     "text": [
      "enter the string Data Science Pro\n"
     ]
    },
    {
     "data": {
      "text/plain": [
       "['Data', 'Science', 'Pro']"
      ]
     },
     "execution_count": 26,
     "metadata": {},
     "output_type": "execute_result"
    }
   ],
   "source": [
    "#Split a string into a list of words.\n",
    "a=input(\"enter the string\")\n",
    "a.split()"
   ]
  },
  {
   "cell_type": "code",
   "execution_count": 33,
   "id": "895ca140-9968-4d34-95a9-aea48ce26ca8",
   "metadata": {},
   "outputs": [
    {
     "name": "stdout",
     "output_type": "stream",
     "text": [
      "he is an engineer\n"
     ]
    }
   ],
   "source": [
    "#Join a list of words into a string.\n",
    "a=[\"he\",\"is\",\"an\",\"engineer\"]\n",
    "b=\" \".join(a)\n",
    "print(b)"
   ]
  },
  {
   "cell_type": "code",
   "execution_count": 35,
   "id": "84f2c65f-9ab2-4793-9f7a-78f101d255ef",
   "metadata": {},
   "outputs": [
    {
     "name": "stdin",
     "output_type": "stream",
     "text": [
      "enter the string this is a bag\n"
     ]
    },
    {
     "name": "stdout",
     "output_type": "stream",
     "text": [
      "this_is_a_bag\n"
     ]
    }
   ],
   "source": [
    "#Convert a string where words are separated by spaces to one where words are separated by underscores.\n",
    "a=input(\"enter the string\")\n",
    "b=a.replace(\" \",\"_\")\n",
    "print(b)"
   ]
  },
  {
   "cell_type": "code",
   "execution_count": 43,
   "id": "b72be52e-85dd-473c-88ec-7b59b50233e6",
   "metadata": {},
   "outputs": [
    {
     "name": "stdin",
     "output_type": "stream",
     "text": [
      "enter the string hii i am a girl\n",
      "enter the prefix hii\n"
     ]
    },
    {
     "name": "stdout",
     "output_type": "stream",
     "text": [
      "The text start with the prefix.\n"
     ]
    }
   ],
   "source": [
    "#Check if a string starts with a specific word or phrase.\n",
    "a=input(\"enter the string\")\n",
    "b=input(\"enter the prefix\")\n",
    "def starts(a, b):\n",
    "    start =a.startswith(b)\n",
    "\n",
    "    return start\n",
    "result = starts(a, b)\n",
    "if result:\n",
    "    print(\"The text start with the prefix.\")\n",
    "else:\n",
    "    print(\"The text does not start with the prefix.\")\n",
    "\n"
   ]
  },
  {
   "cell_type": "code",
   "execution_count": 49,
   "id": "3c4c8e63-fdec-416d-8bf5-18129f1b2168",
   "metadata": {},
   "outputs": [
    {
     "name": "stdin",
     "output_type": "stream",
     "text": [
      "enter the string hii i am girl\n",
      "enter the suffix girl\n"
     ]
    },
    {
     "name": "stdout",
     "output_type": "stream",
     "text": [
      "The text end with the suffix.\n"
     ]
    }
   ],
   "source": [
    "#Check if a string starts with a specific word or phrase.\n",
    "a=input(\"enter the string\")\n",
    "b=input(\"enter the suffix\")\n",
    "def ends(a, b):\n",
    "    end =a.endswith(b)\n",
    "\n",
    "    return end\n",
    "result = ends(a, b)\n",
    "if result:\n",
    "    print(\"The text end with the suffix.\")\n",
    "else:\n",
    "    print(\"The text does not end with the suffix.\")\n"
   ]
  },
  {
   "cell_type": "code",
   "execution_count": 51,
   "id": "555cd01c-98d4-45a7-a384-6850668e9eec",
   "metadata": {},
   "outputs": [
    {
     "name": "stdin",
     "output_type": "stream",
     "text": [
      "enter the sentense the text end with the suffix.\n"
     ]
    },
    {
     "data": {
      "text/plain": [
       "'The Text End With The Suffix.'"
      ]
     },
     "execution_count": 51,
     "metadata": {},
     "output_type": "execute_result"
    }
   ],
   "source": [
    "#Convert a string to title case \n",
    "a=input(\"enter the sentense\")\n",
    "a.title()"
   ]
  },
  {
   "cell_type": "code",
   "execution_count": 25,
   "id": "b6a1f3ff-0278-4d67-a176-64fedd1de8d1",
   "metadata": {},
   "outputs": [
    {
     "name": "stdin",
     "output_type": "stream",
     "text": [
      "enter the sentense i am a girl\n"
     ]
    },
    {
     "name": "stdout",
     "output_type": "stream",
     "text": [
      "girl\n"
     ]
    }
   ],
   "source": [
    "#Find the longest word in a string.\n",
    "a=input(\"enter the sentense\")\n",
    "b=a.split()\n",
    "longword = \"\"\n",
    "maxLen = 0\n",
    "for word in b:\n",
    "        if len(word) > maxLen:\n",
    "            maxLen = len(word)\n",
    "            longword = word\n",
    "\n",
    "print(longword)\n"
   ]
  },
  {
   "cell_type": "code",
   "execution_count": 7,
   "id": "92f65e94-93e3-4c22-ab70-21c8270dd29f",
   "metadata": {},
   "outputs": [
    {
     "name": "stdin",
     "output_type": "stream",
     "text": [
      "enter the sentence i am a girl\n"
     ]
    },
    {
     "name": "stdout",
     "output_type": "stream",
     "text": [
      "i\n"
     ]
    }
   ],
   "source": [
    "#Find the shortest word in a string.\n",
    "a=input(\"enter the sentence\")\n",
    "b=a.split()\n",
    "shortword = None\n",
    "minLen = float('inf')\n",
    "for word in b:\n",
    "        if len(word) < minLen:\n",
    "            minLen = len(word)\n",
    "            longword = word\n",
    "\n",
    "print(longword)\n"
   ]
  },
  {
   "cell_type": "code",
   "execution_count": 59,
   "id": "aa414cc8-bf12-46ad-9e14-080558f2b15b",
   "metadata": {},
   "outputs": [
    {
     "name": "stdin",
     "output_type": "stream",
     "text": [
      "enter the sentence i am a girl\n"
     ]
    },
    {
     "name": "stdout",
     "output_type": "stream",
     "text": [
      "Original string: 'i am a girl'\n",
      "Reversed string: 'girl a am i'\n"
     ]
    }
   ],
   "source": [
    "#Reverse the order of words in a string.\n",
    "input_string=input(\"enter the sentence\")\n",
    "words = input_string.split()\n",
    "reversed_words = \" \".join(reversed(words))\n",
    " \n",
    "result = reverse_words(input_string)\n",
    "print(f\"Original string: '{input_string}'\")\n",
    "print(f\"Reversed string: '{result}'\")\n"
   ]
  },
  {
   "cell_type": "code",
   "execution_count": 64,
   "id": "c61a3b76-6f17-497e-bd90-3aae39765075",
   "metadata": {},
   "outputs": [
    {
     "name": "stdout",
     "output_type": "stream",
     "text": [
      "The string is alphanumeric.\n"
     ]
    }
   ],
   "source": [
    "#Check if a string is alphanumeric.\n",
    "text = \"Hello\"\n",
    "result = text.isalnum()\n",
    "if result:\n",
    "    print(\"The string is alphanumeric.\")\n",
    "else:\n",
    "    print(\"The string is not alphanumeric.\")"
   ]
  },
  {
   "cell_type": "code",
   "execution_count": 83,
   "id": "6a26b5a7-6bf2-4487-bc8b-10aefcb35c2b",
   "metadata": {},
   "outputs": [
    {
     "name": "stdin",
     "output_type": "stream",
     "text": [
      "enter the string komal999\n"
     ]
    },
    {
     "name": "stdout",
     "output_type": "stream",
     "text": [
      "999\n"
     ]
    }
   ],
   "source": [
    "#Extract all digits from a string.\n",
    "text=input(\"enter the string\")\n",
    "def extract_digits(text):\n",
    "    digits =\"\"\n",
    "    for char in text:\n",
    "        if char.isdigit():\n",
    "            digits +=char\n",
    "    return digits\n",
    "extracted_digit=extract_digits(text)\n",
    "print(extracted_digit)"
   ]
  },
  {
   "cell_type": "code",
   "execution_count": 85,
   "id": "b810969e-345e-4acf-ae93-1b8e0a6eef44",
   "metadata": {},
   "outputs": [
    {
     "name": "stdin",
     "output_type": "stream",
     "text": [
      "enter the string komal9876komal\n"
     ]
    },
    {
     "name": "stdout",
     "output_type": "stream",
     "text": [
      "komalkomal\n"
     ]
    }
   ],
   "source": [
    "#Extract all alphabets from a string.\n",
    "text=input(\"enter the string\")\n",
    "def extract_word(text):\n",
    "    word =\"\"\n",
    "    for char in text:\n",
    "        if char.isalpha():\n",
    "            word +=char\n",
    "    return word\n",
    "extracted_word=extract_word(text)\n",
    "print(extracted_word)"
   ]
  },
  {
   "cell_type": "code",
   "execution_count": 87,
   "id": "ec78b1c6-8b12-45b2-b132-044f76e99d6a",
   "metadata": {},
   "outputs": [
    {
     "name": "stdin",
     "output_type": "stream",
     "text": [
      "enter the string aABCDhvhjvh\n"
     ]
    },
    {
     "name": "stdout",
     "output_type": "stream",
     "text": [
      "4\n"
     ]
    }
   ],
   "source": [
    "#Count the number of uppercase letters in a string.\n",
    "text=input(\"enter the string\")\n",
    "def count_upper(text):\n",
    "    count = 0\n",
    "    for char in text:\n",
    "        if char.isupper():\n",
    "            count += 1\n",
    "    return count\n",
    "result=count_upper(text)\n",
    "print(result)"
   ]
  },
  {
   "cell_type": "code",
   "execution_count": 89,
   "id": "fc4a1cde-dfd6-46b9-89ee-fa82ba372e70",
   "metadata": {},
   "outputs": [
    {
     "name": "stdin",
     "output_type": "stream",
     "text": [
      "enter the string komalRENU\n"
     ]
    },
    {
     "name": "stdout",
     "output_type": "stream",
     "text": [
      "5\n"
     ]
    }
   ],
   "source": [
    "#Count the number of uppercase letters in a string.\n",
    "text=input(\"enter the string\")\n",
    "def count_lower(text):\n",
    "    count = 0\n",
    "    for char in text:\n",
    "        if char.islower():\n",
    "            count += 1\n",
    "    return count\n",
    "result=count_lower(text)\n",
    "print(result)"
   ]
  },
  {
   "cell_type": "code",
   "execution_count": 106,
   "id": "8d819dfe-12d7-4690-90de-b6c7d634e06e",
   "metadata": {},
   "outputs": [
    {
     "name": "stdin",
     "output_type": "stream",
     "text": [
      "enter the string pwSkills\n"
     ]
    },
    {
     "name": "stdout",
     "output_type": "stream",
     "text": [
      "PWsKILLS\n"
     ]
    }
   ],
   "source": [
    "#Swap the case of each character in a string.\n",
    "text=input(\"enter the string\")\n",
    "def input_string(text):\n",
    "#     # for char in text:\n",
    "#     #     if char.islower():\n",
    "            \n",
    "    return text.swapcase()\n",
    "result=input_string(text)\n",
    "print(result)\n"
   ]
  },
  {
   "cell_type": "code",
   "execution_count": 120,
   "id": "44fbb071-4840-46e0-bf73-660b1935fc2f",
   "metadata": {},
   "outputs": [
    {
     "name": "stdin",
     "output_type": "stream",
     "text": [
      "enter the sentence ineuron is the best for DataScience\n",
      "enter the specific word the\n"
     ]
    },
    {
     "name": "stdout",
     "output_type": "stream",
     "text": [
      "ineuron is  best for DataScience\n"
     ]
    }
   ],
   "source": [
    "#Remove a specific word from a string.\n",
    "a=input(\"enter the sentence\")\n",
    "b=input(\"enter the specific word\") #enter a word you want to search in sentence\n",
    "if b in a:\n",
    "    c=a.replace(b,\"\")\n",
    "    result=c\n",
    "    print(result)\n",
    "else:\n",
    "    print(\"word not present\") "
   ]
  },
  {
   "cell_type": "code",
   "execution_count": 126,
   "id": "e22e04f2-b846-4a9b-a0f0-baec4f6e4ee4",
   "metadata": {},
   "outputs": [
    {
     "name": "stdin",
     "output_type": "stream",
     "text": [
      "enter the email pwskill@gmail.com\n"
     ]
    },
    {
     "name": "stdout",
     "output_type": "stream",
     "text": [
      "email is valid\n"
     ]
    }
   ],
   "source": [
    "# Check if a string is a valid email address.\n",
    "import re\n",
    "email=input(\"enter the email\")\n",
    "pattern=r'^[\\w\\.-]+@[\\w\\.-]+\\.\\w+$'\n",
    "if re.match(pattern,email):\n",
    "    print(\"email is valid\")\n",
    "else:\n",
    "    print(\"email is invalid\")"
   ]
  },
  {
   "cell_type": "code",
   "execution_count": 8,
   "id": "4b1b1079-983b-40b9-a03f-4cb58030627a",
   "metadata": {},
   "outputs": [
    {
     "name": "stdin",
     "output_type": "stream",
     "text": [
      "enter the email pwskill@gmail.com\n"
     ]
    },
    {
     "name": "stdout",
     "output_type": "stream",
     "text": [
      "The username in the email address is: pwskill\n"
     ]
    }
   ],
   "source": [
    "#Extract the username from an email address string.\n",
    "email=input(\"enter the email\")\n",
    "def extract_username(email):\n",
    "    username = email.split('@')[0]\n",
    "    return username\n",
    "username = extract_username(email)\n",
    "print(f\"The username in the email address is: {username}\")"
   ]
  },
  {
   "cell_type": "code",
   "execution_count": 9,
   "id": "6c830c47-d7e5-4520-85ad-a26891d4a5b4",
   "metadata": {},
   "outputs": [
    {
     "name": "stdin",
     "output_type": "stream",
     "text": [
      "enter the email pwskill@gmail.com\n"
     ]
    },
    {
     "name": "stdout",
     "output_type": "stream",
     "text": [
      "The username in the email address is: gmail.com\n"
     ]
    }
   ],
   "source": [
    "#Extract the domain name from an email address string.\n",
    "email=input(\"enter the email\")\n",
    "def extract_domain(email):\n",
    "    # Split the email at the \"@\" symbol and take the part before it\n",
    "    domain = email.split('@')[1]\n",
    "    return domain\n",
    "domain = extract_domain(email)\n",
    "print(f\"The username in the email address is: {domain}\")"
   ]
  },
  {
   "cell_type": "code",
   "execution_count": 13,
   "id": "721d4c52-33a3-42e8-8cc3-8e62d1f76e94",
   "metadata": {},
   "outputs": [
    {
     "name": "stdin",
     "output_type": "stream",
     "text": [
      "enter th string i am   a  student  of  pwskill.\n"
     ]
    },
    {
     "name": "stdout",
     "output_type": "stream",
     "text": [
      "String with multiple spaces replaced: 'i am a student of pwskill.'\n"
     ]
    }
   ],
   "source": [
    "#Replace multiple spaces in a string with a single space.\n",
    "a=input(\"enter th string\")\n",
    "import re\n",
    "\n",
    "def replace_spaces(a):\n",
    "    cleaned_string = re.sub(r'\\s+', ' ', a)\n",
    "    return cleaned_string.strip() \n",
    "\n",
    "result = replace_spaces(a)\n",
    "print(f\"String with multiple spaces replaced: '{result}'\")\n"
   ]
  },
  {
   "cell_type": "code",
   "execution_count": null,
   "id": "231fc03a-4719-4ac6-a189-978efd2294b6",
   "metadata": {},
   "outputs": [],
   "source": []
  }
 ],
 "metadata": {
  "kernelspec": {
   "display_name": "Python 3 (ipykernel)",
   "language": "python",
   "name": "python3"
  },
  "language_info": {
   "codemirror_mode": {
    "name": "ipython",
    "version": 3
   },
   "file_extension": ".py",
   "mimetype": "text/x-python",
   "name": "python",
   "nbconvert_exporter": "python",
   "pygments_lexer": "ipython3",
   "version": "3.10.8"
  }
 },
 "nbformat": 4,
 "nbformat_minor": 5
}
